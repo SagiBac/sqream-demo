{
 "cells": [
  {
   "attachments": {},
   "cell_type": "markdown",
   "metadata": {},
   "source": [
    "# Python Connectivity Demo"
   ]
  },
  {
   "attachments": {},
   "cell_type": "markdown",
   "metadata": {},
   "source": [
    "### Demo setup"
   ]
  },
  {
   "attachments": {},
   "cell_type": "markdown",
   "metadata": {},
   "source": [
    "1. Have a Python 3.7+ environment ready\n",
    "2. Open this file in a Jupyter-friendly editor (e.g. VSCode)\n",
    "3. Install the following Python packages using `pip`:\n",
    "\n",
    "        pip install -r requirements.txt\n",
    "\n",
    "4. In the following Python block - replace the string placeholders the actual connection properties, and execute"
   ]
  },
  {
   "cell_type": "code",
   "execution_count": null,
   "metadata": {},
   "outputs": [],
   "source": [
    "# Replace the string placeholders with your actual connection info!\n",
    "HOST     = 'host'       # e.g. \"yourenv.isqream.com\"\n",
    "USERNAME = 'username'   # e.g. \"ben\"\n",
    "PASSWORD = 'password'   # e.g. \"Aa123456\"\n",
    "DATABASE = 'database'   # e.g. \"master\""
   ]
  },
  {
   "attachments": {},
   "cell_type": "markdown",
   "metadata": {},
   "source": [
    "5. Continue executing the rest of this guide in Jupyter"
   ]
  },
  {
   "attachments": {},
   "cell_type": "markdown",
   "metadata": {},
   "source": [
    "### Intro to Jupyter Notebook"
   ]
  },
  {
   "attachments": {},
   "cell_type": "markdown",
   "metadata": {},
   "source": [
    "Jupyter is a multi-language environment which allows you to combine code, text and visuals. Interactive execution makes it great for interactive exploration, as well as for demos and tutorials.\n",
    "\n",
    "Go ahead and execute the following Python cell:"
   ]
  },
  {
   "cell_type": "code",
   "execution_count": null,
   "metadata": {},
   "outputs": [],
   "source": [
    "x = 1\n",
    "y = 2\n",
    "print(f'x + y = {x+y}')"
   ]
  },
  {
   "cell_type": "markdown",
   "metadata": {},
   "source": [
    "The rest of this Notebook will demonstrate the various ways you can connect to SQream Blue from a Python environment."
   ]
  },
  {
   "attachments": {},
   "cell_type": "markdown",
   "metadata": {},
   "source": [
    "### Basic connectivity with Python DB-API"
   ]
  },
  {
   "attachments": {},
   "cell_type": "markdown",
   "metadata": {},
   "source": [
    "The quickest way to connect to SQream is by using SQream's native DB-API Python connector - pysqream."
   ]
  },
  {
   "cell_type": "code",
   "execution_count": null,
   "metadata": {},
   "outputs": [],
   "source": [
    "import pysqream_blue as dbapi\n",
    "con = dbapi.connect(host=HOST, database=DATABASE, username=USERNAME, password=PASSWORD)"
   ]
  },
  {
   "attachments": {},
   "cell_type": "markdown",
   "metadata": {},
   "source": [
    "Statements can be executed by creating a `cursor` object:"
   ]
  },
  {
   "cell_type": "code",
   "execution_count": null,
   "metadata": {},
   "outputs": [],
   "source": [
    "cur = con.cursor()\n",
    "cur.execute(\"SELECT 1 as x, 2 as y\")\n",
    "results = cur.fetchall()\n",
    "print(results)"
   ]
  },
  {
   "attachments": {},
   "cell_type": "markdown",
   "metadata": {},
   "source": [
    "Result data is represented as a list of lists, meaning it can be easily unpacked and used in subsequent Python code:"
   ]
  },
  {
   "cell_type": "code",
   "execution_count": null,
   "metadata": {},
   "outputs": [],
   "source": [
    "first_row = results[0]\n",
    "x = first_row[0]\n",
    "y = first_row[1]\n",
    "print(f'x + y = {x+y}')"
   ]
  },
  {
   "attachments": {},
   "cell_type": "markdown",
   "metadata": {},
   "source": [
    "Lastly - let's close the cursor and the connection objects"
   ]
  },
  {
   "cell_type": "code",
   "execution_count": null,
   "metadata": {},
   "outputs": [],
   "source": [
    "cur.close()\n",
    "con.close()"
   ]
  },
  {
   "attachments": {},
   "cell_type": "markdown",
   "metadata": {},
   "source": [
    "### SQLAlchemy - better integration with the Python data ecosystem"
   ]
  },
  {
   "cell_type": "code",
   "execution_count": null,
   "metadata": {},
   "outputs": [],
   "source": [
    "import sqlalchemy as sa\n",
    "sqlalchemy_conn_string = f'sqream_blue://{USERNAME}:{PASSWORD}@{HOST}/{DATABASE}'\n",
    "engine = sa.create_engine(sqlalchemy_conn_string)"
   ]
  },
  {
   "attachments": {},
   "cell_type": "markdown",
   "metadata": {},
   "source": [
    "Queries are executed using a `connection` object, and results are returned as a list of tuples:"
   ]
  },
  {
   "cell_type": "code",
   "execution_count": null,
   "metadata": {},
   "outputs": [],
   "source": [
    "conn = engine.connect()\n",
    "results = conn.execute('select 1 as x, 2 as y').fetchall()\n",
    "print(results)"
   ]
  },
  {
   "attachments": {},
   "cell_type": "markdown",
   "metadata": {},
   "source": [
    "The main advantage of using SQLAlchemy is that it integrates nicely with other popular Python libraries. Let's see how we can use it to query SQream directly from Pandas:"
   ]
  },
  {
   "cell_type": "code",
   "execution_count": null,
   "metadata": {},
   "outputs": [],
   "source": [
    "import pandas as pd\n",
    "df = pd.read_sql(\"select schema_id,schema_name from sqream_catalog.schemas\", con = conn)\n",
    "df.info()"
   ]
  },
  {
   "attachments": {},
   "cell_type": "markdown",
   "metadata": {},
   "source": [
    "The DataFrame is the standard in-memory columnar representation of tabular data in Python, and there's LOT of useful stuff you can do with it. In addition, it can be beautifully displayed in Jupyter:"
   ]
  },
  {
   "cell_type": "code",
   "execution_count": null,
   "metadata": {},
   "outputs": [],
   "source": [
    "display(df)"
   ]
  },
  {
   "attachments": {},
   "cell_type": "markdown",
   "metadata": {},
   "source": [
    "Before we continue to the next step, we should remember to close the SQLAlchemy connection:"
   ]
  },
  {
   "cell_type": "code",
   "execution_count": null,
   "metadata": {},
   "outputs": [],
   "source": [
    "conn.close()\n",
    "engine.dispose()"
   ]
  },
  {
   "attachments": {},
   "cell_type": "markdown",
   "metadata": {},
   "source": [
    "### Jupyter magic integration with IPython-sql/jupysql"
   ]
  },
  {
   "attachments": {},
   "cell_type": "markdown",
   "metadata": {},
   "source": [
    "Up until now, we've been using regular Python code, meaning that you can use these samples as part of regular Python scripts.\n",
    "\n",
    "In this last section we'll use a Jupyter-only feature called _Jupyter Magic_, which will allow us to execute SQL in an almost native way, directly from the Notebook cells. This is made possibly by the `jupysql` package, which provides the `%sql` macro.\n",
    "\n",
    "In the following cells, we use several Jupyter _magic commands_ in order to set up an SQLAlchemy connection and link it to the `%sql` command."
   ]
  },
  {
   "cell_type": "code",
   "execution_count": null,
   "metadata": {},
   "outputs": [],
   "source": [
    "%load_ext sql\n",
    "%config SqlMagic.autocommit=False\n",
    "%config SqlMagic.displaycon=False\n",
    "%config SqlMagic.autopandas=True\n",
    "%env DATABASE_URL $sqlalchemy_conn_string"
   ]
  },
  {
   "attachments": {},
   "cell_type": "markdown",
   "metadata": {},
   "source": [
    "We can now use the `%sql` magic command to send one-line SQL queries to SQream, creating a CLI-like experience:"
   ]
  },
  {
   "cell_type": "code",
   "execution_count": null,
   "metadata": {},
   "outputs": [],
   "source": [
    "%sql create or replace table t(x int not null);\n",
    "%sql insert into t values (1),(2),(3),(4);\n",
    "%sql select * from t"
   ]
  },
  {
   "attachments": {},
   "cell_type": "markdown",
   "metadata": {},
   "source": [
    "The `%sql` command loads the query results to a Pandas DataFrame. This DataFrame can be saved as a Python variable, which makes it easy to combine the SQL results with regular Python code:"
   ]
  },
  {
   "cell_type": "code",
   "execution_count": null,
   "metadata": {},
   "outputs": [],
   "source": [
    "import matplotlib.pyplot as plt\n",
    "df = %sql select x,power(x,2) as sqr from t\n",
    "plt.bar(df[\"x\"], df[\"sqr\"])\n",
    "plt.title(\"x vs sqr(x)\")\n",
    "plt.show()"
   ]
  },
  {
   "attachments": {},
   "cell_type": "markdown",
   "metadata": {},
   "source": [
    "For long queries, using the one-line `%sql` command can be less than ideal. This is where the entire-cell `%%sql` magic comes in:"
   ]
  },
  {
   "cell_type": "code",
   "execution_count": null,
   "metadata": {},
   "outputs": [],
   "source": [
    "%%sql\n",
    "select\n",
    "  x,\n",
    "  power(x,2) as sqr\n",
    "from t"
   ]
  },
  {
   "attachments": {},
   "cell_type": "markdown",
   "metadata": {},
   "source": [
    "Note that `%%sql` can only appear in the beginning of the Jupyter cell."
   ]
  }
 ],
 "metadata": {
  "kernelspec": {
   "display_name": "sqream-ml-demo",
   "language": "python",
   "name": "python3"
  },
  "language_info": {
   "codemirror_mode": {
    "name": "ipython",
    "version": 3
   },
   "file_extension": ".py",
   "mimetype": "text/x-python",
   "name": "python",
   "nbconvert_exporter": "python",
   "pygments_lexer": "ipython3",
   "version": "3.8.16"
  },
  "orig_nbformat": 4,
  "vscode": {
   "interpreter": {
    "hash": "bb1e91b9d7841a9568b0a438eb9cc5fb1a234b2e29b78b58e63f7740a9471a05"
   }
  }
 },
 "nbformat": 4,
 "nbformat_minor": 2
}
